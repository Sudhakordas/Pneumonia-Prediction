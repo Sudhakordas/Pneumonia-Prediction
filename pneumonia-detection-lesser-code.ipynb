{
 "cells": [
  {
   "cell_type": "markdown",
   "metadata": {
    "papermill": {
     "duration": 0.016768,
     "end_time": "2020-12-14T06:19:10.505495",
     "exception": false,
     "start_time": "2020-12-14T06:19:10.488727",
     "status": "completed"
    },
    "tags": []
   },
   "source": [
    "pneumonia detection using transfer learning in a easier way \n"
   ]
  },
  {
   "cell_type": "code",
   "execution_count": 1,
   "metadata": {
    "_cell_guid": "b1076dfc-b9ad-4769-8c92-a6c4dae69d19",
    "_uuid": "8f2839f25d086af736a60e9eeb907d3b93b6e0e5",
    "execution": {
     "iopub.execute_input": "2020-12-14T06:19:10.542631Z",
     "iopub.status.busy": "2020-12-14T06:19:10.541945Z",
     "iopub.status.idle": "2020-12-14T06:19:15.525436Z",
     "shell.execute_reply": "2020-12-14T06:19:15.524381Z"
    },
    "papermill": {
     "duration": 5.004352,
     "end_time": "2020-12-14T06:19:15.525556",
     "exception": false,
     "start_time": "2020-12-14T06:19:10.521204",
     "status": "completed"
    },
    "tags": []
   },
   "outputs": [],
   "source": [
    "# import the libraries as shown below\n",
    "\n",
    "from keras.layers import Input, Lambda, Dense, Flatten\n",
    "from keras.models import Model\n",
    "\n",
    "from keras.applications.vgg16 import VGG16\n",
    "from keras.applications.vgg16 import preprocess_input\n",
    "from keras.preprocessing import image\n",
    "from keras.preprocessing.image import ImageDataGenerator\n",
    "from keras.models import Sequential\n",
    "import numpy as np\n",
    "from glob import glob\n",
    "import matplotlib.pyplot as plt"
   ]
  },
  {
   "cell_type": "markdown",
   "metadata": {
    "papermill": {
     "duration": 0.016078,
     "end_time": "2020-12-14T06:19:15.557953",
     "exception": false,
     "start_time": "2020-12-14T06:19:15.541875",
     "status": "completed"
    },
    "tags": []
   },
   "source": [
    "assigning path to data"
   ]
  },
  {
   "cell_type": "code",
   "execution_count": 2,
   "metadata": {
    "_cell_guid": "79c7e3d0-c299-4dcb-8224-4455121ee9b0",
    "_uuid": "d629ff2d2480ee46fbb7e2d37f6b5fab8052498a",
    "execution": {
     "iopub.execute_input": "2020-12-14T06:19:15.593879Z",
     "iopub.status.busy": "2020-12-14T06:19:15.593096Z",
     "iopub.status.idle": "2020-12-14T06:19:15.595514Z",
     "shell.execute_reply": "2020-12-14T06:19:15.595929Z"
    },
    "papermill": {
     "duration": 0.022371,
     "end_time": "2020-12-14T06:19:15.596030",
     "exception": false,
     "start_time": "2020-12-14T06:19:15.573659",
     "status": "completed"
    },
    "tags": []
   },
   "outputs": [],
   "source": [
    "#resize the images\n",
    "#provide path for test and train data\n",
    "\n",
    "IMAGE_SIZE =[224,224]\n",
    "train_path = '../input/chest-xray-pneumonia/chest_xray/train'\n",
    "test_path = '../input/chest-xray-pneumonia/chest_xray/test'"
   ]
  },
  {
   "cell_type": "markdown",
   "metadata": {
    "papermill": {
     "duration": 0.015816,
     "end_time": "2020-12-14T06:19:15.627521",
     "exception": false,
     "start_time": "2020-12-14T06:19:15.611705",
     "status": "completed"
    },
    "tags": []
   },
   "source": [
    "selecting relevant model"
   ]
  },
  {
   "cell_type": "code",
   "execution_count": 3,
   "metadata": {
    "execution": {
     "iopub.execute_input": "2020-12-14T06:19:15.665794Z",
     "iopub.status.busy": "2020-12-14T06:19:15.665295Z",
     "iopub.status.idle": "2020-12-14T06:19:24.172975Z",
     "shell.execute_reply": "2020-12-14T06:19:24.171967Z"
    },
    "papermill": {
     "duration": 8.529678,
     "end_time": "2020-12-14T06:19:24.173087",
     "exception": false,
     "start_time": "2020-12-14T06:19:15.643409",
     "status": "completed"
    },
    "tags": []
   },
   "outputs": [
    {
     "name": "stdout",
     "output_type": "stream",
     "text": [
      "Downloading data from https://storage.googleapis.com/tensorflow/keras-applications/vgg16/vgg16_weights_tf_dim_ordering_tf_kernels_notop.h5\n",
      "58892288/58889256 [==============================] - 3s 0us/step\n"
     ]
    }
   ],
   "source": [
    "vgg = VGG16(input_shape=IMAGE_SIZE + [3], weights='imagenet', include_top=False)"
   ]
  },
  {
   "cell_type": "code",
   "execution_count": 4,
   "metadata": {
    "execution": {
     "iopub.execute_input": "2020-12-14T06:19:24.218607Z",
     "iopub.status.busy": "2020-12-14T06:19:24.217424Z",
     "iopub.status.idle": "2020-12-14T06:19:24.220480Z",
     "shell.execute_reply": "2020-12-14T06:19:24.220033Z"
    },
    "papermill": {
     "duration": 0.026755,
     "end_time": "2020-12-14T06:19:24.220576",
     "exception": false,
     "start_time": "2020-12-14T06:19:24.193821",
     "status": "completed"
    },
    "tags": []
   },
   "outputs": [],
   "source": [
    "# its important that we don't train existing weights\n",
    "for layer in vgg.layers:\n",
    "    layer.trainable = False"
   ]
  },
  {
   "cell_type": "code",
   "execution_count": 5,
   "metadata": {
    "execution": {
     "iopub.execute_input": "2020-12-14T06:19:24.261888Z",
     "iopub.status.busy": "2020-12-14T06:19:24.261061Z",
     "iopub.status.idle": "2020-12-14T06:19:24.273728Z",
     "shell.execute_reply": "2020-12-14T06:19:24.273223Z"
    },
    "papermill": {
     "duration": 0.034104,
     "end_time": "2020-12-14T06:19:24.273808",
     "exception": false,
     "start_time": "2020-12-14T06:19:24.239704",
     "status": "completed"
    },
    "tags": []
   },
   "outputs": [],
   "source": [
    "  # useful for getting number of output classes\n",
    "folders = glob('../input/chest-xray-pneumonia/chest_xray/train/*')"
   ]
  },
  {
   "cell_type": "code",
   "execution_count": 6,
   "metadata": {
    "execution": {
     "iopub.execute_input": "2020-12-14T06:19:24.318695Z",
     "iopub.status.busy": "2020-12-14T06:19:24.317885Z",
     "iopub.status.idle": "2020-12-14T06:19:24.322640Z",
     "shell.execute_reply": "2020-12-14T06:19:24.322190Z"
    },
    "papermill": {
     "duration": 0.029633,
     "end_time": "2020-12-14T06:19:24.322722",
     "exception": false,
     "start_time": "2020-12-14T06:19:24.293089",
     "status": "completed"
    },
    "tags": []
   },
   "outputs": [],
   "source": [
    "# our layers - you can add more if you want\n",
    "x = Flatten()(vgg.output)"
   ]
  },
  {
   "cell_type": "code",
   "execution_count": 7,
   "metadata": {
    "execution": {
     "iopub.execute_input": "2020-12-14T06:19:24.367491Z",
     "iopub.status.busy": "2020-12-14T06:19:24.366625Z",
     "iopub.status.idle": "2020-12-14T06:19:24.382910Z",
     "shell.execute_reply": "2020-12-14T06:19:24.381859Z"
    },
    "papermill": {
     "duration": 0.040826,
     "end_time": "2020-12-14T06:19:24.382993",
     "exception": false,
     "start_time": "2020-12-14T06:19:24.342167",
     "status": "completed"
    },
    "tags": []
   },
   "outputs": [],
   "source": [
    "prediction = Dense(len(folders), activation='softmax')(x)\n",
    "\n",
    "# create a model object\n",
    "model = Model(inputs=vgg.input, outputs=prediction)"
   ]
  },
  {
   "cell_type": "code",
   "execution_count": 8,
   "metadata": {
    "execution": {
     "iopub.execute_input": "2020-12-14T06:19:24.429018Z",
     "iopub.status.busy": "2020-12-14T06:19:24.425829Z",
     "iopub.status.idle": "2020-12-14T06:19:24.440157Z",
     "shell.execute_reply": "2020-12-14T06:19:24.440751Z"
    },
    "papermill": {
     "duration": 0.03862,
     "end_time": "2020-12-14T06:19:24.440884",
     "exception": false,
     "start_time": "2020-12-14T06:19:24.402264",
     "status": "completed"
    },
    "tags": []
   },
   "outputs": [
    {
     "name": "stdout",
     "output_type": "stream",
     "text": [
      "Model: \"functional_1\"\n",
      "_________________________________________________________________\n",
      "Layer (type)                 Output Shape              Param #   \n",
      "=================================================================\n",
      "input_1 (InputLayer)         [(None, 224, 224, 3)]     0         \n",
      "_________________________________________________________________\n",
      "block1_conv1 (Conv2D)        (None, 224, 224, 64)      1792      \n",
      "_________________________________________________________________\n",
      "block1_conv2 (Conv2D)        (None, 224, 224, 64)      36928     \n",
      "_________________________________________________________________\n",
      "block1_pool (MaxPooling2D)   (None, 112, 112, 64)      0         \n",
      "_________________________________________________________________\n",
      "block2_conv1 (Conv2D)        (None, 112, 112, 128)     73856     \n",
      "_________________________________________________________________\n",
      "block2_conv2 (Conv2D)        (None, 112, 112, 128)     147584    \n",
      "_________________________________________________________________\n",
      "block2_pool (MaxPooling2D)   (None, 56, 56, 128)       0         \n",
      "_________________________________________________________________\n",
      "block3_conv1 (Conv2D)        (None, 56, 56, 256)       295168    \n",
      "_________________________________________________________________\n",
      "block3_conv2 (Conv2D)        (None, 56, 56, 256)       590080    \n",
      "_________________________________________________________________\n",
      "block3_conv3 (Conv2D)        (None, 56, 56, 256)       590080    \n",
      "_________________________________________________________________\n",
      "block3_pool (MaxPooling2D)   (None, 28, 28, 256)       0         \n",
      "_________________________________________________________________\n",
      "block4_conv1 (Conv2D)        (None, 28, 28, 512)       1180160   \n",
      "_________________________________________________________________\n",
      "block4_conv2 (Conv2D)        (None, 28, 28, 512)       2359808   \n",
      "_________________________________________________________________\n",
      "block4_conv3 (Conv2D)        (None, 28, 28, 512)       2359808   \n",
      "_________________________________________________________________\n",
      "block4_pool (MaxPooling2D)   (None, 14, 14, 512)       0         \n",
      "_________________________________________________________________\n",
      "block5_conv1 (Conv2D)        (None, 14, 14, 512)       2359808   \n",
      "_________________________________________________________________\n",
      "block5_conv2 (Conv2D)        (None, 14, 14, 512)       2359808   \n",
      "_________________________________________________________________\n",
      "block5_conv3 (Conv2D)        (None, 14, 14, 512)       2359808   \n",
      "_________________________________________________________________\n",
      "block5_pool (MaxPooling2D)   (None, 7, 7, 512)         0         \n",
      "_________________________________________________________________\n",
      "flatten (Flatten)            (None, 25088)             0         \n",
      "_________________________________________________________________\n",
      "dense (Dense)                (None, 2)                 50178     \n",
      "=================================================================\n",
      "Total params: 14,764,866\n",
      "Trainable params: 50,178\n",
      "Non-trainable params: 14,714,688\n",
      "_________________________________________________________________\n"
     ]
    }
   ],
   "source": [
    "# for viewing the structure of the model\n",
    "\n",
    "model.summary()"
   ]
  },
  {
   "cell_type": "markdown",
   "metadata": {
    "papermill": {
     "duration": 0.019773,
     "end_time": "2020-12-14T06:19:24.481211",
     "exception": false,
     "start_time": "2020-12-14T06:19:24.461438",
     "status": "completed"
    },
    "tags": []
   },
   "source": [
    "optimization\n"
   ]
  },
  {
   "cell_type": "code",
   "execution_count": 9,
   "metadata": {
    "execution": {
     "iopub.execute_input": "2020-12-14T06:19:24.530527Z",
     "iopub.status.busy": "2020-12-14T06:19:24.529859Z",
     "iopub.status.idle": "2020-12-14T06:19:24.536546Z",
     "shell.execute_reply": "2020-12-14T06:19:24.536966Z"
    },
    "papermill": {
     "duration": 0.035933,
     "end_time": "2020-12-14T06:19:24.537063",
     "exception": false,
     "start_time": "2020-12-14T06:19:24.501130",
     "status": "completed"
    },
    "tags": []
   },
   "outputs": [],
   "source": [
    "# tell the model what cost and optimization method to use\n",
    "model.compile(\n",
    "  loss='categorical_crossentropy',\n",
    "  optimizer='adam',\n",
    "  metrics=['accuracy']\n",
    ")"
   ]
  },
  {
   "cell_type": "markdown",
   "metadata": {
    "papermill": {
     "duration": 0.019729,
     "end_time": "2020-12-14T06:19:24.576668",
     "exception": false,
     "start_time": "2020-12-14T06:19:24.556939",
     "status": "completed"
    },
    "tags": []
   },
   "source": [
    "importing images from dataset"
   ]
  },
  {
   "cell_type": "code",
   "execution_count": 10,
   "metadata": {
    "execution": {
     "iopub.execute_input": "2020-12-14T06:19:24.622679Z",
     "iopub.status.busy": "2020-12-14T06:19:24.621413Z",
     "iopub.status.idle": "2020-12-14T06:19:24.623721Z",
     "shell.execute_reply": "2020-12-14T06:19:24.624190Z"
    },
    "papermill": {
     "duration": 0.027544,
     "end_time": "2020-12-14T06:19:24.624288",
     "exception": false,
     "start_time": "2020-12-14T06:19:24.596744",
     "status": "completed"
    },
    "tags": []
   },
   "outputs": [],
   "source": [
    "\n",
    "from keras.preprocessing.image import ImageDataGenerator\n",
    "\n",
    "train_datagen = ImageDataGenerator(rescale = 1./255,\n",
    "                                   shear_range = 0.2,\n",
    "                                   zoom_range = 0.2,\n",
    "                                   horizontal_flip = True)\n",
    "\n",
    "test_datagen = ImageDataGenerator(rescale = 1./255)"
   ]
  },
  {
   "cell_type": "code",
   "execution_count": 11,
   "metadata": {
    "execution": {
     "iopub.execute_input": "2020-12-14T06:19:24.668394Z",
     "iopub.status.busy": "2020-12-14T06:19:24.667837Z",
     "iopub.status.idle": "2020-12-14T06:19:26.666500Z",
     "shell.execute_reply": "2020-12-14T06:19:26.667260Z"
    },
    "papermill": {
     "duration": 2.022996,
     "end_time": "2020-12-14T06:19:26.667404",
     "exception": false,
     "start_time": "2020-12-14T06:19:24.644408",
     "status": "completed"
    },
    "tags": []
   },
   "outputs": [
    {
     "name": "stdout",
     "output_type": "stream",
     "text": [
      "Found 5216 images belonging to 2 classes.\n"
     ]
    }
   ],
   "source": [
    "# Make sure you provide the same target size as initialied for the image size\n",
    "training_set = train_datagen.flow_from_directory('../input/chest-xray-pneumonia/chest_xray/train',\n",
    "                                                 target_size = (224, 224),\n",
    "                                                 batch_size = 32,\n",
    "                                                 class_mode = 'categorical')"
   ]
  },
  {
   "cell_type": "code",
   "execution_count": 12,
   "metadata": {
    "execution": {
     "iopub.execute_input": "2020-12-14T06:19:26.713610Z",
     "iopub.status.busy": "2020-12-14T06:19:26.712977Z",
     "iopub.status.idle": "2020-12-14T06:19:26.820621Z",
     "shell.execute_reply": "2020-12-14T06:19:26.820134Z"
    },
    "papermill": {
     "duration": 0.132366,
     "end_time": "2020-12-14T06:19:26.820727",
     "exception": false,
     "start_time": "2020-12-14T06:19:26.688361",
     "status": "completed"
    },
    "tags": []
   },
   "outputs": [
    {
     "name": "stdout",
     "output_type": "stream",
     "text": [
      "Found 624 images belonging to 2 classes.\n"
     ]
    }
   ],
   "source": [
    "test_set = test_datagen.flow_from_directory('../input/chest-xray-pneumonia/chest_xray/test',\n",
    "                                            target_size = (224, 224),\n",
    "                                            batch_size = 32,\n",
    "                                            class_mode = 'categorical')"
   ]
  },
  {
   "cell_type": "code",
   "execution_count": 13,
   "metadata": {
    "execution": {
     "iopub.execute_input": "2020-12-14T06:19:26.869246Z",
     "iopub.status.busy": "2020-12-14T06:19:26.868561Z",
     "iopub.status.idle": "2020-12-14T06:19:26.872209Z",
     "shell.execute_reply": "2020-12-14T06:19:26.872618Z"
    },
    "papermill": {
     "duration": 0.031245,
     "end_time": "2020-12-14T06:19:26.872717",
     "exception": false,
     "start_time": "2020-12-14T06:19:26.841472",
     "status": "completed"
    },
    "tags": []
   },
   "outputs": [
    {
     "data": {
      "text/plain": [
       "163"
      ]
     },
     "execution_count": 13,
     "metadata": {},
     "output_type": "execute_result"
    }
   ],
   "source": [
    "len(training_set)\n"
   ]
  },
  {
   "cell_type": "code",
   "execution_count": 14,
   "metadata": {
    "execution": {
     "iopub.execute_input": "2020-12-14T06:19:26.919856Z",
     "iopub.status.busy": "2020-12-14T06:19:26.919347Z",
     "iopub.status.idle": "2020-12-14T06:19:26.924509Z",
     "shell.execute_reply": "2020-12-14T06:19:26.924893Z"
    },
    "papermill": {
     "duration": 0.030622,
     "end_time": "2020-12-14T06:19:26.925004",
     "exception": false,
     "start_time": "2020-12-14T06:19:26.894382",
     "status": "completed"
    },
    "tags": []
   },
   "outputs": [
    {
     "data": {
      "text/plain": [
       "20"
      ]
     },
     "execution_count": 14,
     "metadata": {},
     "output_type": "execute_result"
    }
   ],
   "source": [
    "len(test_set)"
   ]
  },
  {
   "cell_type": "markdown",
   "metadata": {
    "papermill": {
     "duration": 0.021827,
     "end_time": "2020-12-14T06:19:26.968870",
     "exception": false,
     "start_time": "2020-12-14T06:19:26.947043",
     "status": "completed"
    },
    "tags": []
   },
   "source": [
    "training the data"
   ]
  },
  {
   "cell_type": "code",
   "execution_count": 15,
   "metadata": {
    "execution": {
     "iopub.execute_input": "2020-12-14T06:19:27.017893Z",
     "iopub.status.busy": "2020-12-14T06:19:27.017130Z",
     "iopub.status.idle": "2020-12-14T06:29:08.694444Z",
     "shell.execute_reply": "2020-12-14T06:29:08.695547Z"
    },
    "papermill": {
     "duration": 581.704948,
     "end_time": "2020-12-14T06:29:08.695747",
     "exception": false,
     "start_time": "2020-12-14T06:19:26.990799",
     "status": "completed"
    },
    "tags": []
   },
   "outputs": [
    {
     "name": "stdout",
     "output_type": "stream",
     "text": [
      "Epoch 1/5\n",
      "163/163 [==============================] - 147s 905ms/step - loss: 0.1950 - accuracy: 0.9243 - val_loss: 0.2452 - val_accuracy: 0.9167\n",
      "Epoch 2/5\n",
      "163/163 [==============================] - 106s 650ms/step - loss: 0.1424 - accuracy: 0.9525 - val_loss: 0.3709 - val_accuracy: 0.9006\n",
      "Epoch 3/5\n",
      "163/163 [==============================] - 106s 652ms/step - loss: 0.0893 - accuracy: 0.9676 - val_loss: 0.2450 - val_accuracy: 0.9199\n",
      "Epoch 4/5\n",
      "163/163 [==============================] - 106s 652ms/step - loss: 0.0965 - accuracy: 0.9640 - val_loss: 0.2574 - val_accuracy: 0.9231\n",
      "Epoch 5/5\n",
      "163/163 [==============================] - 107s 655ms/step - loss: 0.0844 - accuracy: 0.9718 - val_loss: 0.3006 - val_accuracy: 0.9183\n"
     ]
    }
   ],
   "source": [
    "#fit the model\n",
    "#change the parameters according to your needs to get a better accuracy\n",
    "\n",
    "\n",
    "r = model.fit_generator(\n",
    "  training_set,\n",
    "  validation_data=test_set,\n",
    "  epochs=5,\n",
    "  steps_per_epoch= len(training_set),\n",
    "  validation_steps= len(test_set)\n",
    ")"
   ]
  },
  {
   "cell_type": "markdown",
   "metadata": {
    "papermill": {
     "duration": 0.246265,
     "end_time": "2020-12-14T06:29:09.192753",
     "exception": false,
     "start_time": "2020-12-14T06:29:08.946488",
     "status": "completed"
    },
    "tags": []
   },
   "source": [
    "saving the model"
   ]
  },
  {
   "cell_type": "code",
   "execution_count": 16,
   "metadata": {
    "execution": {
     "iopub.execute_input": "2020-12-14T06:29:09.701595Z",
     "iopub.status.busy": "2020-12-14T06:29:09.700733Z",
     "iopub.status.idle": "2020-12-14T06:29:09.797196Z",
     "shell.execute_reply": "2020-12-14T06:29:09.796651Z"
    },
    "papermill": {
     "duration": 0.356654,
     "end_time": "2020-12-14T06:29:09.797299",
     "exception": false,
     "start_time": "2020-12-14T06:29:09.440645",
     "status": "completed"
    },
    "tags": []
   },
   "outputs": [],
   "source": [
    "\n",
    "import tensorflow as tf\n",
    "\n",
    "from keras.models import load_model\n",
    "\n",
    "model.save('model_vgg16.h5')"
   ]
  },
  {
   "cell_type": "code",
   "execution_count": 17,
   "metadata": {
    "execution": {
     "iopub.execute_input": "2020-12-14T06:29:10.310993Z",
     "iopub.status.busy": "2020-12-14T06:29:10.300664Z",
     "iopub.status.idle": "2020-12-14T06:29:10.506476Z",
     "shell.execute_reply": "2020-12-14T06:29:10.505489Z"
    },
    "papermill": {
     "duration": 0.460755,
     "end_time": "2020-12-14T06:29:10.506595",
     "exception": false,
     "start_time": "2020-12-14T06:29:10.045840",
     "status": "completed"
    },
    "tags": []
   },
   "outputs": [],
   "source": [
    "\n",
    "\n",
    "\n",
    "model = load_model('model_vgg16.h5')"
   ]
  },
  {
   "cell_type": "markdown",
   "metadata": {
    "papermill": {
     "duration": 0.249229,
     "end_time": "2020-12-14T06:29:11.005000",
     "exception": false,
     "start_time": "2020-12-14T06:29:10.755771",
     "status": "completed"
    },
    "tags": []
   },
   "source": [
    "prediction "
   ]
  },
  {
   "cell_type": "code",
   "execution_count": 18,
   "metadata": {
    "execution": {
     "iopub.execute_input": "2020-12-14T06:29:11.507399Z",
     "iopub.status.busy": "2020-12-14T06:29:11.506763Z",
     "iopub.status.idle": "2020-12-14T06:29:11.527297Z",
     "shell.execute_reply": "2020-12-14T06:29:11.526055Z"
    },
    "papermill": {
     "duration": 0.274907,
     "end_time": "2020-12-14T06:29:11.527398",
     "exception": false,
     "start_time": "2020-12-14T06:29:11.252491",
     "status": "completed"
    },
    "tags": []
   },
   "outputs": [],
   "source": [
    "\n",
    "#selecting an image from validation dataset for prediction\n",
    "\n",
    "img = image.load_img('../input/chest-xray-pneumonia/chest_xray/val/PNEUMONIA/person1949_bacteria_4880.jpeg',target_size=[224,224])"
   ]
  },
  {
   "cell_type": "code",
   "execution_count": 19,
   "metadata": {
    "execution": {
     "iopub.execute_input": "2020-12-14T06:29:12.055623Z",
     "iopub.status.busy": "2020-12-14T06:29:12.053864Z",
     "iopub.status.idle": "2020-12-14T06:29:12.056245Z",
     "shell.execute_reply": "2020-12-14T06:29:12.056666Z"
    },
    "papermill": {
     "duration": 0.263505,
     "end_time": "2020-12-14T06:29:12.056777",
     "exception": false,
     "start_time": "2020-12-14T06:29:11.793272",
     "status": "completed"
    },
    "tags": []
   },
   "outputs": [],
   "source": [
    "x = image.img_to_array(img)"
   ]
  },
  {
   "cell_type": "code",
   "execution_count": 20,
   "metadata": {
    "execution": {
     "iopub.execute_input": "2020-12-14T06:29:12.829132Z",
     "iopub.status.busy": "2020-12-14T06:29:12.827963Z",
     "iopub.status.idle": "2020-12-14T06:29:12.830573Z",
     "shell.execute_reply": "2020-12-14T06:29:12.829885Z"
    },
    "papermill": {
     "duration": 0.445008,
     "end_time": "2020-12-14T06:29:12.830701",
     "exception": false,
     "start_time": "2020-12-14T06:29:12.385693",
     "status": "completed"
    },
    "tags": []
   },
   "outputs": [],
   "source": [
    "x = np.expand_dims(x,axis=0)"
   ]
  },
  {
   "cell_type": "code",
   "execution_count": 21,
   "metadata": {
    "execution": {
     "iopub.execute_input": "2020-12-14T06:29:13.380625Z",
     "iopub.status.busy": "2020-12-14T06:29:13.379723Z",
     "iopub.status.idle": "2020-12-14T06:29:13.382006Z",
     "shell.execute_reply": "2020-12-14T06:29:13.382478Z"
    },
    "papermill": {
     "duration": 0.257329,
     "end_time": "2020-12-14T06:29:13.382598",
     "exception": false,
     "start_time": "2020-12-14T06:29:13.125269",
     "status": "completed"
    },
    "tags": []
   },
   "outputs": [],
   "source": [
    "img_data= preprocess_input(x)"
   ]
  },
  {
   "cell_type": "code",
   "execution_count": 22,
   "metadata": {
    "execution": {
     "iopub.execute_input": "2020-12-14T06:29:13.893676Z",
     "iopub.status.busy": "2020-12-14T06:29:13.892850Z",
     "iopub.status.idle": "2020-12-14T06:29:14.240751Z",
     "shell.execute_reply": "2020-12-14T06:29:14.239471Z"
    },
    "papermill": {
     "duration": 0.606702,
     "end_time": "2020-12-14T06:29:14.240865",
     "exception": false,
     "start_time": "2020-12-14T06:29:13.634163",
     "status": "completed"
    },
    "tags": []
   },
   "outputs": [],
   "source": [
    "classes = model.predict(img_data)"
   ]
  },
  {
   "cell_type": "code",
   "execution_count": 23,
   "metadata": {
    "execution": {
     "iopub.execute_input": "2020-12-14T06:29:14.752235Z",
     "iopub.status.busy": "2020-12-14T06:29:14.751596Z",
     "iopub.status.idle": "2020-12-14T06:29:14.755647Z",
     "shell.execute_reply": "2020-12-14T06:29:14.756029Z"
    },
    "papermill": {
     "duration": 0.262074,
     "end_time": "2020-12-14T06:29:14.756145",
     "exception": false,
     "start_time": "2020-12-14T06:29:14.494071",
     "status": "completed"
    },
    "tags": []
   },
   "outputs": [
    {
     "name": "stdout",
     "output_type": "stream",
     "text": [
      "[[0. 1.]]\n"
     ]
    }
   ],
   "source": [
    "# 0 refers not effected by pneumonia\n",
    "# 1 refers effected with pneumonia\n",
    "\n",
    "print(classes)"
   ]
  },
  {
   "cell_type": "code",
   "execution_count": null,
   "metadata": {
    "papermill": {
     "duration": 0.25035,
     "end_time": "2020-12-14T06:29:15.259569",
     "exception": false,
     "start_time": "2020-12-14T06:29:15.009219",
     "status": "completed"
    },
    "tags": []
   },
   "outputs": [],
   "source": []
  }
 ],
 "metadata": {
  "kernelspec": {
   "display_name": "Python 3",
   "language": "python",
   "name": "python3"
  },
  "language_info": {
   "codemirror_mode": {
    "name": "ipython",
    "version": 3
   },
   "file_extension": ".py",
   "mimetype": "text/x-python",
   "name": "python",
   "nbconvert_exporter": "python",
   "pygments_lexer": "ipython3",
   "version": "3.7.6"
  },
  "papermill": {
   "duration": 609.994042,
   "end_time": "2020-12-14T06:29:16.680740",
   "environment_variables": {},
   "exception": null,
   "input_path": "__notebook__.ipynb",
   "output_path": "__notebook__.ipynb",
   "parameters": {},
   "start_time": "2020-12-14T06:19:06.686698",
   "version": "2.1.0"
  }
 },
 "nbformat": 4,
 "nbformat_minor": 4
}
